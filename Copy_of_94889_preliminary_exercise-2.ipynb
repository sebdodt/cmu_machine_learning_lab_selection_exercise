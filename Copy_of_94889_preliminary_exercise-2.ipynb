{
  "nbformat": 4,
  "nbformat_minor": 0,
  "metadata": {
    "colab": {
      "name": "Copy of 94889_preliminary_exercise.ipynb",
      "provenance": [],
      "collapsed_sections": []
    },
    "kernelspec": {
      "name": "python3",
      "display_name": "Python 3"
    },
    "language_info": {
      "name": "python"
    }
  },
  "cells": [
    {
      "cell_type": "markdown",
      "source": [
        "# 94889 Preliminary Exercise\n",
        "\n",
        "## Overview\n",
        "\n",
        "The purpose of this exercise is to provide a quick check on a couple of the technical skills you'll need in Machine Learning for Public Policy Lab (94-889) anbd help us make sure everyone coming in has the necessary pre-requisites including python, data analysis, databases/sql, and machine learning. \n",
        "\n",
        "Feel free to use any references (previous class notes, google, stackoverflow, etc) you would like, but please complete the exercise on your own to ensure the work reflects your experience. **Completing this notebook should take you under 2 hours** -- if you're finding you need to take significantly more time on, you may find it difficult to contribute to the project work in the class.\n",
        "\n",
        "## Problem Background\n",
        "\n",
        "This notebook makes use of a sample of the data provided by [DonorsChoose](https://www.donorschoose.org/) to the [2014 KDD Cup](https://www.kaggle.com/c/kdd-cup-2014-predicting-excitement-at-donors-choose/data). Public schools in the United States face large disparities in funding, often resulting in teachers and staff members filling these gaps by purchasing classroom supplies out of their own pockets. DonorsChoose is an online crowdfunding platform that tries to help alleviate this financial burden on teachers by allowing them to seek funding for projects and resources from the community (projects can include classroom basics like books and markers, larger items like lab equipment or musical instruments, specific experiences like field trips or guest speakers). Projects on DonorsChoose expire after 4 months, and if the target funding level isn't reached, the project receives no funding. Since its launch in 2000, the platform has helped fund over 2 million projects at schools across the US, but about 1/3 of the projects that are posted nevertheless fail to meet their goal and go unfunded.\n",
        "\n",
        "### The Modeling Problem\n",
        "\n",
        "For the purposes of this exercise, we'll imagine that DonorsChoose has hired a digital content expert who will review projects and help teachers improve their postings and increase their chances of reaching their funding threshold. Because this individualized review is a labor-intensive process, the digital content expert has time to review and support only 10% of the projects posted to the platform on a given day. \n",
        "\n",
        "You are a data scientist working with DonorsChoose, and your task is to help this content expert focus their limited resources on projects that most need the help. As such, you want to build a model to identify projects that are least likely to be fully funded before they expire and pass them off to the digital content expert for review.\n"
      ],
      "metadata": {
        "id": "Zw1i3ELeKDLD"
      }
    },
    {
      "cell_type": "markdown",
      "source": [
        "# Getting Set Up\n",
        "\n",
        "Running the code below will create a local postgres 11 database for you and import the sampled donors choose data. Don't worry about the details of that and you shouldn't need to touch any of the code here aside from running it. Below, we'll talk about how to access the database from within the notebook to run queries."
      ],
      "metadata": {
        "id": "BjRBddip6lPI"
      }
    },
    {
      "cell_type": "code",
      "execution_count": null,
      "metadata": {
        "id": "iY8dwqamIIQc",
        "colab": {
          "base_uri": "https://localhost:8080/"
        },
        "outputId": "f48b92d1-e106-48ab-a1ac-373424d78c47"
      },
      "outputs": [
        {
          "output_type": "stream",
          "name": "stdout",
          "text": [
            "OK\n",
            "deb http://apt.postgresql.org/pub/repos/apt/ bionic-pgdg main\n",
            " * Starting PostgreSQL 11 database server\n",
            "   ...done.\n",
            "ALTER ROLE\n",
            "DROP DATABASE\n",
            "CREATE DATABASE\n",
            "env: DEMO_DATABASE_NAME=donors_choose\n",
            "env: DEMO_DATABASE_HOST=localhost\n",
            "env: DEMO_DATABASE_PORT=5432\n",
            "env: DEMO_DATABASE_USER=postgres\n",
            "env: DEMO_DATABASE_PASS=postgres\n"
          ]
        }
      ],
      "source": [
        "# Install and start postgresql-11 server\n",
        "!sudo apt-get -y -qq update\n",
        "!wget --quiet -O - https://www.postgresql.org/media/keys/ACCC4CF8.asc | sudo apt-key add -\n",
        "!echo \"deb http://apt.postgresql.org/pub/repos/apt/ `lsb_release -cs`-pgdg main\" |sudo tee  /etc/apt/sources.list.d/pgdg.list\n",
        "!sudo apt-get -y -qq update\n",
        "!sudo apt-get -y -qq install postgresql-11 postgresql-client-11\n",
        "!sudo service postgresql start\n",
        "\n",
        "# Setup a password `postgres` for username `postgres`\n",
        "!sudo -u postgres psql -U postgres -c \"ALTER USER postgres PASSWORD 'postgres';\"\n",
        "\n",
        "# Setup a database with name `donors_choose` to be used\n",
        "!sudo -u postgres psql -U postgres -c 'DROP DATABASE IF EXISTS donors_choose;'\n",
        "\n",
        "!sudo -u postgres psql -U postgres -c 'CREATE DATABASE donors_choose;'\n",
        "\n",
        "# Environment variables for connecting to the database\n",
        "%env DEMO_DATABASE_NAME=donors_choose\n",
        "%env DEMO_DATABASE_HOST=localhost\n",
        "%env DEMO_DATABASE_PORT=5432\n",
        "%env DEMO_DATABASE_USER=postgres\n",
        "%env DEMO_DATABASE_PASS=postgres"
      ]
    },
    {
      "cell_type": "code",
      "source": [
        "# Download sampled DonorsChoose data and load it into our postgres server\n",
        "!curl -s -OL https://dsapp-public-data-migrated.s3.us-west-2.amazonaws.com/donors_sampled_20210920_v3.dmp\n",
        "!PGPASSWORD=$DEMO_DATABASE_PASS pg_restore -h $DEMO_DATABASE_HOST -p $DEMO_DATABASE_PORT -d $DEMO_DATABASE_NAME -U $DEMO_DATABASE_USER -O -j 8 donors_sampled_20210920_v3.dmp"
      ],
      "metadata": {
        "id": "ImdiugfVIXcq"
      },
      "execution_count": null,
      "outputs": []
    },
    {
      "cell_type": "code",
      "source": [
        "!pip install SQLAlchemy==1.3.18 PyYAML==6.0 psycopg2-binary==2.9.3"
      ],
      "metadata": {
        "id": "Uj114AFLIpug",
        "colab": {
          "base_uri": "https://localhost:8080/"
        },
        "outputId": "2ed8f0fe-2265-4318-d9ff-20afeaf3a977"
      },
      "execution_count": null,
      "outputs": [
        {
          "output_type": "stream",
          "name": "stdout",
          "text": [
            "Looking in indexes: https://pypi.org/simple, https://us-python.pkg.dev/colab-wheels/public/simple/\n",
            "Requirement already satisfied: SQLAlchemy==1.3.18 in /usr/local/lib/python3.7/dist-packages (1.3.18)\n",
            "Requirement already satisfied: PyYAML==6.0 in /usr/local/lib/python3.7/dist-packages (6.0)\n",
            "Requirement already satisfied: psycopg2-binary==2.9.3 in /usr/local/lib/python3.7/dist-packages (2.9.3)\n"
          ]
        }
      ]
    },
    {
      "cell_type": "code",
      "source": [
        "import pandas as pd\n",
        "pd.set_option('display.max_columns', None)"
      ],
      "metadata": {
        "id": "ZIZEHiMpANsU"
      },
      "execution_count": null,
      "outputs": []
    },
    {
      "cell_type": "code",
      "source": [
        "from sqlalchemy.engine.url import URL\n",
        "from sqlalchemy import create_engine\n",
        "\n",
        "db_url = URL(\n",
        "            'postgres',\n",
        "            host='localhost',\n",
        "            username='postgres',\n",
        "            database='donors_choose',\n",
        "            password='postgres',\n",
        "            port=5432,\n",
        "        )\n",
        "\n",
        "db_engine = create_engine(db_url)"
      ],
      "metadata": {
        "id": "JRYwIn-UJI6t"
      },
      "execution_count": null,
      "outputs": []
    },
    {
      "cell_type": "markdown",
      "source": [
        "# Querying the Database\n",
        "\n",
        "The code block above used the `sqlalchemy` module to create a connection to the database called `db_engine`. An easy way to run SQL queries against this database is to use the `read_sql` command provided by `pandas`. For instance, if you run the example below, it should return the number of projects in the sampled dataset (16,480):"
      ],
      "metadata": {
        "id": "9t7vS9VfKJm_"
      }
    },
    {
      "cell_type": "code",
      "source": [
        "pd.read_sql(\"SELECT COUNT(*) FROM data.projects\", db_engine)"
      ],
      "metadata": {
        "id": "fEpuSoSdJUN2",
        "colab": {
          "base_uri": "https://localhost:8080/",
          "height": 81
        },
        "outputId": "38a8cae2-7a07-437a-dce0-dc55ebd95b4c"
      },
      "execution_count": null,
      "outputs": [
        {
          "output_type": "execute_result",
          "data": {
            "text/plain": [
              "   count\n",
              "0  16480"
            ],
            "text/html": [
              "\n",
              "  <div id=\"df-8dc6fd97-12df-48f9-8c60-866a5ac59bee\">\n",
              "    <div class=\"colab-df-container\">\n",
              "      <div>\n",
              "<style scoped>\n",
              "    .dataframe tbody tr th:only-of-type {\n",
              "        vertical-align: middle;\n",
              "    }\n",
              "\n",
              "    .dataframe tbody tr th {\n",
              "        vertical-align: top;\n",
              "    }\n",
              "\n",
              "    .dataframe thead th {\n",
              "        text-align: right;\n",
              "    }\n",
              "</style>\n",
              "<table border=\"1\" class=\"dataframe\">\n",
              "  <thead>\n",
              "    <tr style=\"text-align: right;\">\n",
              "      <th></th>\n",
              "      <th>count</th>\n",
              "    </tr>\n",
              "  </thead>\n",
              "  <tbody>\n",
              "    <tr>\n",
              "      <th>0</th>\n",
              "      <td>16480</td>\n",
              "    </tr>\n",
              "  </tbody>\n",
              "</table>\n",
              "</div>\n",
              "      <button class=\"colab-df-convert\" onclick=\"convertToInteractive('df-8dc6fd97-12df-48f9-8c60-866a5ac59bee')\"\n",
              "              title=\"Convert this dataframe to an interactive table.\"\n",
              "              style=\"display:none;\">\n",
              "        \n",
              "  <svg xmlns=\"http://www.w3.org/2000/svg\" height=\"24px\"viewBox=\"0 0 24 24\"\n",
              "       width=\"24px\">\n",
              "    <path d=\"M0 0h24v24H0V0z\" fill=\"none\"/>\n",
              "    <path d=\"M18.56 5.44l.94 2.06.94-2.06 2.06-.94-2.06-.94-.94-2.06-.94 2.06-2.06.94zm-11 1L8.5 8.5l.94-2.06 2.06-.94-2.06-.94L8.5 2.5l-.94 2.06-2.06.94zm10 10l.94 2.06.94-2.06 2.06-.94-2.06-.94-.94-2.06-.94 2.06-2.06.94z\"/><path d=\"M17.41 7.96l-1.37-1.37c-.4-.4-.92-.59-1.43-.59-.52 0-1.04.2-1.43.59L10.3 9.45l-7.72 7.72c-.78.78-.78 2.05 0 2.83L4 21.41c.39.39.9.59 1.41.59.51 0 1.02-.2 1.41-.59l7.78-7.78 2.81-2.81c.8-.78.8-2.07 0-2.86zM5.41 20L4 18.59l7.72-7.72 1.47 1.35L5.41 20z\"/>\n",
              "  </svg>\n",
              "      </button>\n",
              "      \n",
              "  <style>\n",
              "    .colab-df-container {\n",
              "      display:flex;\n",
              "      flex-wrap:wrap;\n",
              "      gap: 12px;\n",
              "    }\n",
              "\n",
              "    .colab-df-convert {\n",
              "      background-color: #E8F0FE;\n",
              "      border: none;\n",
              "      border-radius: 50%;\n",
              "      cursor: pointer;\n",
              "      display: none;\n",
              "      fill: #1967D2;\n",
              "      height: 32px;\n",
              "      padding: 0 0 0 0;\n",
              "      width: 32px;\n",
              "    }\n",
              "\n",
              "    .colab-df-convert:hover {\n",
              "      background-color: #E2EBFA;\n",
              "      box-shadow: 0px 1px 2px rgba(60, 64, 67, 0.3), 0px 1px 3px 1px rgba(60, 64, 67, 0.15);\n",
              "      fill: #174EA6;\n",
              "    }\n",
              "\n",
              "    [theme=dark] .colab-df-convert {\n",
              "      background-color: #3B4455;\n",
              "      fill: #D2E3FC;\n",
              "    }\n",
              "\n",
              "    [theme=dark] .colab-df-convert:hover {\n",
              "      background-color: #434B5C;\n",
              "      box-shadow: 0px 1px 3px 1px rgba(0, 0, 0, 0.15);\n",
              "      filter: drop-shadow(0px 1px 2px rgba(0, 0, 0, 0.3));\n",
              "      fill: #FFFFFF;\n",
              "    }\n",
              "  </style>\n",
              "\n",
              "      <script>\n",
              "        const buttonEl =\n",
              "          document.querySelector('#df-8dc6fd97-12df-48f9-8c60-866a5ac59bee button.colab-df-convert');\n",
              "        buttonEl.style.display =\n",
              "          google.colab.kernel.accessAllowed ? 'block' : 'none';\n",
              "\n",
              "        async function convertToInteractive(key) {\n",
              "          const element = document.querySelector('#df-8dc6fd97-12df-48f9-8c60-866a5ac59bee');\n",
              "          const dataTable =\n",
              "            await google.colab.kernel.invokeFunction('convertToInteractive',\n",
              "                                                     [key], {});\n",
              "          if (!dataTable) return;\n",
              "\n",
              "          const docLinkHtml = 'Like what you see? Visit the ' +\n",
              "            '<a target=\"_blank\" href=https://colab.research.google.com/notebooks/data_table.ipynb>data table notebook</a>'\n",
              "            + ' to learn more about interactive tables.';\n",
              "          element.innerHTML = '';\n",
              "          dataTable['output_type'] = 'display_data';\n",
              "          await google.colab.output.renderOutput(dataTable, element);\n",
              "          const docLink = document.createElement('div');\n",
              "          docLink.innerHTML = docLinkHtml;\n",
              "          element.appendChild(docLink);\n",
              "        }\n",
              "      </script>\n",
              "    </div>\n",
              "  </div>\n",
              "  "
            ]
          },
          "metadata": {},
          "execution_count": 6
        }
      ]
    },
    {
      "cell_type": "markdown",
      "source": [
        "You can find some more details about the dataset on the [KDD Cup page](https://www.kaggle.com/c/kdd-cup-2014-predicting-excitement-at-donors-choose/data), but here is a quick description of the four main source tables:\n",
        "- `data.projects` contains information about each project that was posted on the site, including IDs for the project, school, and teacher, as well as the total amount being requested (note that projects can also request additional \"optional support\" but don't need to reach this higher bar to be funded)\n",
        "- `data.essays` has project titles and descriptions\n",
        "- `data.resources` has information about the specific resources being requested\n",
        "- `data.donations` contains details about each donation that was received by a project (when it came in, the amount, whether it was from another teacher, etc.)"
      ],
      "metadata": {
        "id": "UECOSNF-8pTs"
      }
    },
    {
      "cell_type": "markdown",
      "source": [
        "## Want other packages?\n",
        "If you need to install any other python modules for your analysis, you can easily do so from a code block by prefixing your `pip install` command with an `!` character. For instance:\n",
        "```\n",
        "!pip install PyYAML\n",
        "```"
      ],
      "metadata": {
        "id": "7bLEVeYa8IGY"
      }
    },
    {
      "cell_type": "markdown",
      "source": [
        "# QUESTION 1\n",
        "\n",
        "**(A)** Write a query to return the school id, title, short description, date posted, and total asking price for the most recently posted project from each school in Oregon."
      ],
      "metadata": {
        "id": "IIRe2r2tKNJI"
      }
    },
    {
      "cell_type": "code",
      "source": [
        "pd.read_sql(\n",
        "    \"SELECT p2.schoolid, e.title, e.short_description, e.date_posted, p2.total_asking_price \\\n",
        "     FROM ( \\\n",
        "          SELECT schoolid, MAX(date_posted) AS recent_date \\\n",
        "          FROM data.projects \\\n",
        "          WHERE school_state = 'OR' \\\n",
        "          GROUP BY schoolid \\\n",
        "          ) p1 \\\n",
        "          JOIN data.projects p2 \\\n",
        "              ON p1.schoolid = p2.schoolid AND p1.recent_date = p2.date_posted \\\n",
        "          JOIN data.essays e \\\n",
        "              USING (projectid_str) \\\n",
        "     WHERE p2.school_state = 'OR' \\\n",
        "     \",\n",
        "    db_engine\n",
        ")"
      ],
      "metadata": {
        "id": "108ogvgOJrpF",
        "colab": {
          "base_uri": "https://localhost:8080/",
          "height": 922
        },
        "outputId": "1ccbf4d5-ab77-439d-a474-99e4c16fe56b"
      },
      "execution_count": null,
      "outputs": [
        {
          "output_type": "execute_result",
          "data": {
            "text/plain": [
              "                            schoolid  \\\n",
              "0   d61b06fffec84e74406fd9b79b83f676   \n",
              "1   e86e6f6826167263fe4c358ce12eb21f   \n",
              "2   ca7c1b50e18e22c9c97e91d429cbaca8   \n",
              "3   2fb6bd29ba665d9e98727a52753477c5   \n",
              "4   e5119574d9b41fb7200594899f23ba41   \n",
              "5   d61b06fffec84e74406fd9b79b83f676   \n",
              "6   b688c7b721152811d3012ef4493676c0   \n",
              "7   16c2e091c46696b6af2321a68fc9f53a   \n",
              "8   28af7a22c4a224d9450b9b7aee7261e7   \n",
              "9   c3d3bd57df48d9f90fe71d66139a0830   \n",
              "10  8cb0ace5cc80e2082c1bcd2f1805bdcf   \n",
              "11  a942c6c1756f362660a4f3e9f694bb92   \n",
              "12  786c1ac1f4e18ff2a1a25b7f4f7bdc8a   \n",
              "13  2f53c699c8a0f2154f36ce325e4fa9ea   \n",
              "14  36cfae1eee5bc4679300fe2bf0bab812   \n",
              "15  5d01b7ac5916d47cbc22bf93ba9c814d   \n",
              "16  13389ac5a646c1d7b68678bba13878a5   \n",
              "\n",
              "                                                title  \\\n",
              "0                     STEM Towers Engineering Project   \n",
              "1                                    Academic English   \n",
              "2                                       Scrabble Wars   \n",
              "3                                   Recycling Project   \n",
              "4             Technology to Increase Student Learning   \n",
              "5             STEM Green Chemical Engineering Project   \n",
              "6   Help Us Buy Quality Literature For Our English...   \n",
              "7                               iPad Differentiation!   \n",
              "8                  Lifting Our Way to a Healthier Day   \n",
              "9                         Measuring Up the Greenhouse   \n",
              "10                                   Agents of Change   \n",
              "11          Population Diversity Survey-Raptor County   \n",
              "12                         Art Through the Curriculum   \n",
              "13                    Get in Touch (with Your Senses)   \n",
              "14  Communism vs Capitalism: An Examination of Ani...   \n",
              "15                    Class Set of Young Adult Novels   \n",
              "16                Owl Be Learning About the Foodchain   \n",
              "\n",
              "                                    short_description date_posted  \\\n",
              "0   Build it and they will come!\" Students will ha...  2013-08-27   \n",
              "1   My students are learning English as a second l...  2013-02-19   \n",
              "2   Language shapes the way we think, and determin...  2012-12-08   \n",
              "3   Robert Alanr said, \"We can help educate our fa...  2011-02-15   \n",
              "4   My students are getting more exposure to diffe...  2013-09-03   \n",
              "5   Teaching at a public, science magnet school, o...  2013-08-27   \n",
              "6   As a new school, we are working to build our c...  2012-01-09   \n",
              "7   Do you remember the first time you had the abi...  2013-10-06   \n",
              "8   My students are looking for new ways to build ...  2011-11-13   \n",
              "9   Nothing is more rewarding than watching life h...  2012-07-31   \n",
              "10  As a small school, we do not have the luxury o...  2012-01-01   \n",
              "11  The students in environmental science will par...  2010-09-19   \n",
              "12  Writing is an integral part of our day. We wri...  2014-05-04   \n",
              "13  Sensory input is such a major part of our day,...  2014-03-01   \n",
              "14  Our students live in a former timber town and ...  2012-09-17   \n",
              "15  Students in my diversely populated high povert...  2013-10-17   \n",
              "16  Do you remember what it was like when you did ...  2011-10-30   \n",
              "\n",
              "    total_asking_price  \n",
              "0               648.93  \n",
              "1               198.98  \n",
              "2               301.22  \n",
              "3               495.59  \n",
              "4               793.06  \n",
              "5               327.64  \n",
              "6               452.65  \n",
              "7              1665.96  \n",
              "8               598.57  \n",
              "9               619.26  \n",
              "10              139.95  \n",
              "11              605.24  \n",
              "12              136.43  \n",
              "13              297.95  \n",
              "14              318.97  \n",
              "15              651.33  \n",
              "16              154.40  "
            ],
            "text/html": [
              "\n",
              "  <div id=\"df-9885e214-c77c-4b83-afa1-633c7b9e8111\">\n",
              "    <div class=\"colab-df-container\">\n",
              "      <div>\n",
              "<style scoped>\n",
              "    .dataframe tbody tr th:only-of-type {\n",
              "        vertical-align: middle;\n",
              "    }\n",
              "\n",
              "    .dataframe tbody tr th {\n",
              "        vertical-align: top;\n",
              "    }\n",
              "\n",
              "    .dataframe thead th {\n",
              "        text-align: right;\n",
              "    }\n",
              "</style>\n",
              "<table border=\"1\" class=\"dataframe\">\n",
              "  <thead>\n",
              "    <tr style=\"text-align: right;\">\n",
              "      <th></th>\n",
              "      <th>schoolid</th>\n",
              "      <th>title</th>\n",
              "      <th>short_description</th>\n",
              "      <th>date_posted</th>\n",
              "      <th>total_asking_price</th>\n",
              "    </tr>\n",
              "  </thead>\n",
              "  <tbody>\n",
              "    <tr>\n",
              "      <th>0</th>\n",
              "      <td>d61b06fffec84e74406fd9b79b83f676</td>\n",
              "      <td>STEM Towers Engineering Project</td>\n",
              "      <td>Build it and they will come!\" Students will ha...</td>\n",
              "      <td>2013-08-27</td>\n",
              "      <td>648.93</td>\n",
              "    </tr>\n",
              "    <tr>\n",
              "      <th>1</th>\n",
              "      <td>e86e6f6826167263fe4c358ce12eb21f</td>\n",
              "      <td>Academic English</td>\n",
              "      <td>My students are learning English as a second l...</td>\n",
              "      <td>2013-02-19</td>\n",
              "      <td>198.98</td>\n",
              "    </tr>\n",
              "    <tr>\n",
              "      <th>2</th>\n",
              "      <td>ca7c1b50e18e22c9c97e91d429cbaca8</td>\n",
              "      <td>Scrabble Wars</td>\n",
              "      <td>Language shapes the way we think, and determin...</td>\n",
              "      <td>2012-12-08</td>\n",
              "      <td>301.22</td>\n",
              "    </tr>\n",
              "    <tr>\n",
              "      <th>3</th>\n",
              "      <td>2fb6bd29ba665d9e98727a52753477c5</td>\n",
              "      <td>Recycling Project</td>\n",
              "      <td>Robert Alanr said, \"We can help educate our fa...</td>\n",
              "      <td>2011-02-15</td>\n",
              "      <td>495.59</td>\n",
              "    </tr>\n",
              "    <tr>\n",
              "      <th>4</th>\n",
              "      <td>e5119574d9b41fb7200594899f23ba41</td>\n",
              "      <td>Technology to Increase Student Learning</td>\n",
              "      <td>My students are getting more exposure to diffe...</td>\n",
              "      <td>2013-09-03</td>\n",
              "      <td>793.06</td>\n",
              "    </tr>\n",
              "    <tr>\n",
              "      <th>5</th>\n",
              "      <td>d61b06fffec84e74406fd9b79b83f676</td>\n",
              "      <td>STEM Green Chemical Engineering Project</td>\n",
              "      <td>Teaching at a public, science magnet school, o...</td>\n",
              "      <td>2013-08-27</td>\n",
              "      <td>327.64</td>\n",
              "    </tr>\n",
              "    <tr>\n",
              "      <th>6</th>\n",
              "      <td>b688c7b721152811d3012ef4493676c0</td>\n",
              "      <td>Help Us Buy Quality Literature For Our English...</td>\n",
              "      <td>As a new school, we are working to build our c...</td>\n",
              "      <td>2012-01-09</td>\n",
              "      <td>452.65</td>\n",
              "    </tr>\n",
              "    <tr>\n",
              "      <th>7</th>\n",
              "      <td>16c2e091c46696b6af2321a68fc9f53a</td>\n",
              "      <td>iPad Differentiation!</td>\n",
              "      <td>Do you remember the first time you had the abi...</td>\n",
              "      <td>2013-10-06</td>\n",
              "      <td>1665.96</td>\n",
              "    </tr>\n",
              "    <tr>\n",
              "      <th>8</th>\n",
              "      <td>28af7a22c4a224d9450b9b7aee7261e7</td>\n",
              "      <td>Lifting Our Way to a Healthier Day</td>\n",
              "      <td>My students are looking for new ways to build ...</td>\n",
              "      <td>2011-11-13</td>\n",
              "      <td>598.57</td>\n",
              "    </tr>\n",
              "    <tr>\n",
              "      <th>9</th>\n",
              "      <td>c3d3bd57df48d9f90fe71d66139a0830</td>\n",
              "      <td>Measuring Up the Greenhouse</td>\n",
              "      <td>Nothing is more rewarding than watching life h...</td>\n",
              "      <td>2012-07-31</td>\n",
              "      <td>619.26</td>\n",
              "    </tr>\n",
              "    <tr>\n",
              "      <th>10</th>\n",
              "      <td>8cb0ace5cc80e2082c1bcd2f1805bdcf</td>\n",
              "      <td>Agents of Change</td>\n",
              "      <td>As a small school, we do not have the luxury o...</td>\n",
              "      <td>2012-01-01</td>\n",
              "      <td>139.95</td>\n",
              "    </tr>\n",
              "    <tr>\n",
              "      <th>11</th>\n",
              "      <td>a942c6c1756f362660a4f3e9f694bb92</td>\n",
              "      <td>Population Diversity Survey-Raptor County</td>\n",
              "      <td>The students in environmental science will par...</td>\n",
              "      <td>2010-09-19</td>\n",
              "      <td>605.24</td>\n",
              "    </tr>\n",
              "    <tr>\n",
              "      <th>12</th>\n",
              "      <td>786c1ac1f4e18ff2a1a25b7f4f7bdc8a</td>\n",
              "      <td>Art Through the Curriculum</td>\n",
              "      <td>Writing is an integral part of our day. We wri...</td>\n",
              "      <td>2014-05-04</td>\n",
              "      <td>136.43</td>\n",
              "    </tr>\n",
              "    <tr>\n",
              "      <th>13</th>\n",
              "      <td>2f53c699c8a0f2154f36ce325e4fa9ea</td>\n",
              "      <td>Get in Touch (with Your Senses)</td>\n",
              "      <td>Sensory input is such a major part of our day,...</td>\n",
              "      <td>2014-03-01</td>\n",
              "      <td>297.95</td>\n",
              "    </tr>\n",
              "    <tr>\n",
              "      <th>14</th>\n",
              "      <td>36cfae1eee5bc4679300fe2bf0bab812</td>\n",
              "      <td>Communism vs Capitalism: An Examination of Ani...</td>\n",
              "      <td>Our students live in a former timber town and ...</td>\n",
              "      <td>2012-09-17</td>\n",
              "      <td>318.97</td>\n",
              "    </tr>\n",
              "    <tr>\n",
              "      <th>15</th>\n",
              "      <td>5d01b7ac5916d47cbc22bf93ba9c814d</td>\n",
              "      <td>Class Set of Young Adult Novels</td>\n",
              "      <td>Students in my diversely populated high povert...</td>\n",
              "      <td>2013-10-17</td>\n",
              "      <td>651.33</td>\n",
              "    </tr>\n",
              "    <tr>\n",
              "      <th>16</th>\n",
              "      <td>13389ac5a646c1d7b68678bba13878a5</td>\n",
              "      <td>Owl Be Learning About the Foodchain</td>\n",
              "      <td>Do you remember what it was like when you did ...</td>\n",
              "      <td>2011-10-30</td>\n",
              "      <td>154.40</td>\n",
              "    </tr>\n",
              "  </tbody>\n",
              "</table>\n",
              "</div>\n",
              "      <button class=\"colab-df-convert\" onclick=\"convertToInteractive('df-9885e214-c77c-4b83-afa1-633c7b9e8111')\"\n",
              "              title=\"Convert this dataframe to an interactive table.\"\n",
              "              style=\"display:none;\">\n",
              "        \n",
              "  <svg xmlns=\"http://www.w3.org/2000/svg\" height=\"24px\"viewBox=\"0 0 24 24\"\n",
              "       width=\"24px\">\n",
              "    <path d=\"M0 0h24v24H0V0z\" fill=\"none\"/>\n",
              "    <path d=\"M18.56 5.44l.94 2.06.94-2.06 2.06-.94-2.06-.94-.94-2.06-.94 2.06-2.06.94zm-11 1L8.5 8.5l.94-2.06 2.06-.94-2.06-.94L8.5 2.5l-.94 2.06-2.06.94zm10 10l.94 2.06.94-2.06 2.06-.94-2.06-.94-.94-2.06-.94 2.06-2.06.94z\"/><path d=\"M17.41 7.96l-1.37-1.37c-.4-.4-.92-.59-1.43-.59-.52 0-1.04.2-1.43.59L10.3 9.45l-7.72 7.72c-.78.78-.78 2.05 0 2.83L4 21.41c.39.39.9.59 1.41.59.51 0 1.02-.2 1.41-.59l7.78-7.78 2.81-2.81c.8-.78.8-2.07 0-2.86zM5.41 20L4 18.59l7.72-7.72 1.47 1.35L5.41 20z\"/>\n",
              "  </svg>\n",
              "      </button>\n",
              "      \n",
              "  <style>\n",
              "    .colab-df-container {\n",
              "      display:flex;\n",
              "      flex-wrap:wrap;\n",
              "      gap: 12px;\n",
              "    }\n",
              "\n",
              "    .colab-df-convert {\n",
              "      background-color: #E8F0FE;\n",
              "      border: none;\n",
              "      border-radius: 50%;\n",
              "      cursor: pointer;\n",
              "      display: none;\n",
              "      fill: #1967D2;\n",
              "      height: 32px;\n",
              "      padding: 0 0 0 0;\n",
              "      width: 32px;\n",
              "    }\n",
              "\n",
              "    .colab-df-convert:hover {\n",
              "      background-color: #E2EBFA;\n",
              "      box-shadow: 0px 1px 2px rgba(60, 64, 67, 0.3), 0px 1px 3px 1px rgba(60, 64, 67, 0.15);\n",
              "      fill: #174EA6;\n",
              "    }\n",
              "\n",
              "    [theme=dark] .colab-df-convert {\n",
              "      background-color: #3B4455;\n",
              "      fill: #D2E3FC;\n",
              "    }\n",
              "\n",
              "    [theme=dark] .colab-df-convert:hover {\n",
              "      background-color: #434B5C;\n",
              "      box-shadow: 0px 1px 3px 1px rgba(0, 0, 0, 0.15);\n",
              "      filter: drop-shadow(0px 1px 2px rgba(0, 0, 0, 0.3));\n",
              "      fill: #FFFFFF;\n",
              "    }\n",
              "  </style>\n",
              "\n",
              "      <script>\n",
              "        const buttonEl =\n",
              "          document.querySelector('#df-9885e214-c77c-4b83-afa1-633c7b9e8111 button.colab-df-convert');\n",
              "        buttonEl.style.display =\n",
              "          google.colab.kernel.accessAllowed ? 'block' : 'none';\n",
              "\n",
              "        async function convertToInteractive(key) {\n",
              "          const element = document.querySelector('#df-9885e214-c77c-4b83-afa1-633c7b9e8111');\n",
              "          const dataTable =\n",
              "            await google.colab.kernel.invokeFunction('convertToInteractive',\n",
              "                                                     [key], {});\n",
              "          if (!dataTable) return;\n",
              "\n",
              "          const docLinkHtml = 'Like what you see? Visit the ' +\n",
              "            '<a target=\"_blank\" href=https://colab.research.google.com/notebooks/data_table.ipynb>data table notebook</a>'\n",
              "            + ' to learn more about interactive tables.';\n",
              "          element.innerHTML = '';\n",
              "          dataTable['output_type'] = 'display_data';\n",
              "          await google.colab.output.renderOutput(dataTable, element);\n",
              "          const docLink = document.createElement('div');\n",
              "          docLink.innerHTML = docLinkHtml;\n",
              "          element.appendChild(docLink);\n",
              "        }\n",
              "      </script>\n",
              "    </div>\n",
              "  </div>\n",
              "  "
            ]
          },
          "metadata": {},
          "execution_count": 7
        }
      ]
    },
    {
      "cell_type": "markdown",
      "source": [
        "**(B)** Create a scatter plot of the number of resources requested vs fraction of the total ask amount that was funded across all projects in New Hampshire. (Hint: You'll need to join a couple of tables here to figure out the amount donated to a project)"
      ],
      "metadata": {
        "id": "OozrlP8dN7zG"
      }
    },
    {
      "cell_type": "code",
      "source": [
        "!pip install seaborn\n",
        "!pip install matplotlib"
      ],
      "metadata": {
        "id": "n4LFpsrLMePc"
      },
      "execution_count": null,
      "outputs": []
    },
    {
      "cell_type": "markdown",
      "source": [
        "Assumption 1: \n",
        "\"Number of resources requested\" includes the same resource that is requested multiple times."
      ],
      "metadata": {
        "id": "tTUGQXO0GoEK"
      }
    },
    {
      "cell_type": "code",
      "source": [
        "import seaborn as sns\n",
        "import matplotlib.pyplot as plt\n",
        "plt.style.use('seaborn')"
      ],
      "metadata": {
        "id": "hITK1H1_6YZl"
      },
      "execution_count": null,
      "outputs": []
    },
    {
      "cell_type": "code",
      "source": [
        "data = pd.read_sql(\" \\\n",
        "    SELECT SUM(r.item_quantity) AS number_of_total_resources, \\\n",
        "        100*SUM(d.donation_to_project)/p.total_asking_price AS fraction_funded \\\n",
        "    FROM data.donations d \\\n",
        "        JOIN data.resources r \\\n",
        "            USING (projectid_str) \\\n",
        "        JOIN data.projects p \\\n",
        "            USING (projectid_str) \\\n",
        "    WHERE school_state = 'NH' \\\n",
        "    GROUP BY d.projectid_str, p.total_asking_price \\\n",
        "    \",\n",
        "    db_engine\n",
        ")\n",
        "\n",
        "p = sns.scatterplot(\n",
        "    data = data,\n",
        "    x = \"number_of_total_resources\",\n",
        "    y = \"fraction_funded\")\n",
        "p.set_xlabel(\"Number of total resources requested (incl. duplicates)\")\n",
        "p.set_ylabel(\"Fraction funded (in %)\")\n",
        "plt.show()"
      ],
      "metadata": {
        "colab": {
          "base_uri": "https://localhost:8080/",
          "height": 361
        },
        "id": "UDVivGpgkbV0",
        "outputId": "92335b3c-c40f-4756-c3ee-36a02d5e9e4a"
      },
      "execution_count": null,
      "outputs": [
        {
          "output_type": "display_data",
          "data": {
            "text/plain": [
              "<Figure size 576x396 with 1 Axes>"
            ],
            "image/png": "[encoded data removed]"
          },
          "metadata": {}
        }
      ]
    },
    {
      "cell_type": "markdown",
      "source": [
        "Assumption 2:\n",
        "\"Number of resources requested\" means number of *unique* resources requested for the respective project. E.g., if the same resource is requested multiple times or in a quantity larger than 1, it is still counted as 1."
      ],
      "metadata": {
        "id": "fYpUbv4JG7JL"
      }
    },
    {
      "cell_type": "code",
      "source": [
        "data = pd.read_sql(\" \\\n",
        "    SELECT COUNT(DISTINCT(r.resourceid)) AS number_of_distict_resources, \\\n",
        "        100*SUM(d.donation_to_project)/total_asking_price AS fraction_funded \\\n",
        "    FROM data.donations d \\\n",
        "        JOIN data.resources r \\\n",
        "            USING (projectid_str) \\\n",
        "        JOIN data.projects p \\\n",
        "            USING (projectid_str) \\\n",
        "    WHERE school_state = 'NH' \\\n",
        "    GROUP BY projectid_str, p.total_asking_price \\\n",
        "    \",\n",
        "    db_engine\n",
        ")\n",
        "\n",
        "p = sns.scatterplot(\n",
        "    data = data,\n",
        "    x = \"number_of_distict_resources\",\n",
        "    y = \"fraction_funded\")\n",
        "p.set_xlabel(\"Number of distinct resources requested (excl. duplicates)\")\n",
        "p.set_ylabel(\"Fraction funded (in %)\")\n",
        "plt.show()"
      ],
      "metadata": {
        "colab": {
          "base_uri": "https://localhost:8080/",
          "height": 361
        },
        "id": "7tuI9ooD7sX3",
        "outputId": "e4321838-4b3e-4f90-d7fc-817252ef86bd"
      },
      "execution_count": null,
      "outputs": [
        {
          "output_type": "display_data",
          "data": {
            "text/plain": [
              "<Figure size 576x396 with 1 Axes>"
            ],
            "image/png": "[encoded data removed]"
          },
          "metadata": {}
        }
      ]
    },
    {
      "cell_type": "markdown",
      "source": [
        "# QUESTION 2\n",
        "\n",
        "For this question, you'll develop a model to help DonorsChoose identify 10% of projects to have their digital content expert review based on their risk of failing to reach their funding goal. In order to intervene early in the process, DonorsChoose wants to identify these projects to help immediately upon being posted to the site.\n",
        "\n",
        "Build and evaluate the performance of a handful of machine learning models. **Be sure to use comments or text blocks to discuss the choices and assumptions you're making along the way.** Note that you don't need to explore an extensive model space here -- building 3 or 4 models should be fine for the purposes of this exercise. Feel free to use any python packages available (such as sklearn) for this."
      ],
      "metadata": {
        "id": "6y7NI6XAS-96"
      }
    },
    {
      "cell_type": "code",
      "source": [
        "import numpy as np\n",
        "from scipy import stats\n",
        "from sklearn import preprocessing\n",
        "from sklearn.pipeline import make_pipeline\n",
        "from sklearn.preprocessing import RobustScaler\n",
        "from sklearn.model_selection import KFold, cross_val_score, train_test_split\n",
        "from sklearn.linear_model import LogisticRegression\n",
        "from sklearn.naive_bayes import GaussianNB\n",
        "from sklearn.neural_network import MLPClassifier\n",
        "from sklearn.neighbors import KNeighborsClassifier\n",
        "from sklearn.svm import SVC\n",
        "from sklearn.ensemble import RandomForestClassifier, AdaBoostClassifier\n",
        "from sklearn.metrics import confusion_matrix"
      ],
      "metadata": {
        "id": "lOZ8ujwEkgdN"
      },
      "execution_count": null,
      "outputs": []
    },
    {
      "cell_type": "markdown",
      "source": [
        "Assumptions:\n",
        "- Requested resources are often posted on the date the project is posted but not always. Hence, it is an unreliable predictor and will not be used here. The only data that is always reliably available when the project is posted comes from the `data.projects` table.\n",
        "- We are avoiding to use the gender of the teacher in order to reduce gender discrimation resulting from our model. It may still discriminate but would presumambly do somewhat less so without the feature."
      ],
      "metadata": {
        "id": "MzSj_3h1csi2"
      }
    },
    {
      "cell_type": "code",
      "source": [
        "## Sourcing data\n",
        "\n",
        "data = pd.read_sql(\n",
        "    \"\"\"SELECT p.projectid_str, funding, p.total_asking_price, \\\n",
        "            p.teacher_acctid, p.school_latitude, \\\n",
        "            p.school_longitude, p.school_city, \\\n",
        "            p.teacher_teach_for_america, \\\n",
        "            p.teacher_ny_teaching_fellow, p.primary_focus_subject, \\\n",
        "            p.primary_focus_area, p.secondary_focus_subject, p.secondary_focus_area, \\\n",
        "            resource_type, p.poverty_level, p.grade_level, \\\n",
        "            p.students_reached, p.fulfillment_labor_materials, \\\n",
        "            p.eligible_double_your_impact_match, \"eligible_almost_home_match\" \\\n",
        "     FROM data.projects p \\\n",
        "            JOIN ( \\\n",
        "                SELECT projectid_str, \\\n",
        "                    CASE \\\n",
        "                        WHEN SUM(d2.donation_to_project)/p2.total_asking_price < 1 THEN 'not_reached' \\\n",
        "                        ELSE 'reached' \\\n",
        "                    END funding \\\n",
        "                FROM data.donations d2 JOIN data.projects p2 USING (projectid_str) \\\n",
        "                GROUP BY projectid_str, p2.total_asking_price) d \\\n",
        "            USING (projectid_str) \\\n",
        "     \"\"\",\n",
        "    db_engine\n",
        ")"
      ],
      "metadata": {
        "id": "f19JP2pMCN7t"
      },
      "execution_count": null,
      "outputs": []
    },
    {
      "cell_type": "markdown",
      "source": [
        "**Feature Engineering**"
      ],
      "metadata": {
        "id": "iGLhOSQ1B2sa"
      }
    },
    {
      "cell_type": "code",
      "source": [
        "# Data Transformations\n",
        "\n",
        "# setting project ID as index\n",
        "df = data.set_index('projectid_str')\n",
        "\n",
        "# turning y-value to 0/1 variable \n",
        "df.loc[df[\"funding\"] == \"reached\", \"funding\"] = 0\n",
        "df.loc[df[\"funding\"] == \"not_reached\", \"funding\"] = 1\n",
        "df[\"funding\"] = df[\"funding\"].astype('int')"
      ],
      "metadata": {
        "id": "jjOfOmHNsPwn"
      },
      "execution_count": null,
      "outputs": []
    },
    {
      "cell_type": "code",
      "source": [
        "# EDA\n",
        "sum(df[\"funding\"])/len(df)"
      ],
      "metadata": {
        "colab": {
          "base_uri": "https://localhost:8080/"
        },
        "id": "WYjo-wnHjWas",
        "outputId": "1e023e76-459c-403e-ef30-71af928305f2"
      },
      "execution_count": null,
      "outputs": [
        {
          "output_type": "execute_result",
          "data": {
            "text/plain": [
              "0.18579660489020403"
            ]
          },
          "metadata": {},
          "execution_count": 15
        }
      ]
    },
    {
      "cell_type": "markdown",
      "source": [
        "Roughly 81% of projects reach their funding goal, leaving 19% underfunded."
      ],
      "metadata": {
        "id": "oDIryy55jrJn"
      }
    },
    {
      "cell_type": "code",
      "source": [
        "df.isna().sum() * 100 / len(df)"
      ],
      "metadata": {
        "colab": {
          "base_uri": "https://localhost:8080/"
        },
        "id": "VLK2K76MlPif",
        "outputId": "fbd0ba3d-7004-4cda-8efd-271c2c4d9d66"
      },
      "execution_count": null,
      "outputs": [
        {
          "output_type": "execute_result",
          "data": {
            "text/plain": [
              "funding                               0.000000\n",
              "total_asking_price                    0.000000\n",
              "teacher_acctid                        0.000000\n",
              "school_latitude                       0.000000\n",
              "school_longitude                      0.000000\n",
              "school_city                           0.000000\n",
              "teacher_teach_for_america             0.000000\n",
              "teacher_ny_teaching_fellow            0.000000\n",
              "primary_focus_subject                 0.000000\n",
              "primary_focus_area                    0.000000\n",
              "secondary_focus_subject              33.055599\n",
              "secondary_focus_area                 33.055599\n",
              "resource_type                         0.000000\n",
              "poverty_level                         0.000000\n",
              "grade_level                           0.000000\n",
              "students_reached                      0.000000\n",
              "fulfillment_labor_materials           4.625448\n",
              "eligible_double_your_impact_match     0.000000\n",
              "                                      0.000000\n",
              "dtype: float64"
            ]
          },
          "metadata": {},
          "execution_count": 16
        }
      ]
    },
    {
      "cell_type": "code",
      "source": [
        "df.drop(\n",
        "    [\"secondary_focus_subject\", \"secondary_focus_area\", \"fulfillment_labor_materials\"],\n",
        "    axis = 1,\n",
        "    inplace = True)"
      ],
      "metadata": {
        "id": "_cplvzFWlVR3"
      },
      "execution_count": null,
      "outputs": []
    },
    {
      "cell_type": "markdown",
      "source": [
        "We are dropping three columns as they have a significant amount of missing values."
      ],
      "metadata": {
        "id": "VAJdyuwTlkQS"
      }
    },
    {
      "cell_type": "code",
      "source": [
        "# Models\n",
        "\n",
        "sns.distplot(df['total_asking_price'], fit=stats.norm)\n",
        "plt.show()"
      ],
      "metadata": {
        "colab": {
          "base_uri": "https://localhost:8080/",
          "height": 416
        },
        "id": "hnOMKj4bjL69",
        "outputId": "2ce3c7dd-df45-4cc0-bb08-cee0fd22f11f"
      },
      "execution_count": null,
      "outputs": [
        {
          "output_type": "stream",
          "name": "stderr",
          "text": [
            "/usr/local/lib/python3.7/dist-packages/seaborn/distributions.py:2619: FutureWarning: `distplot` is a deprecated function and will be removed in a future version. Please adapt your code to use either `displot` (a figure-level function with similar flexibility) or `histplot` (an axes-level function for histograms).\n",
            "  warnings.warn(msg, FutureWarning)\n"
          ]
        },
        {
          "output_type": "display_data",
          "data": {
            "text/plain": [
              "<Figure size 576x396 with 1 Axes>"
            ],
            "image/png": "[encoded data removed]"
          },
          "metadata": {}
        }
      ]
    },
    {
      "cell_type": "code",
      "source": [
        "df['total_asking_price'] = np.log(df['total_asking_price'])\n",
        "sns.distplot(df['total_asking_price'], fit=stats.norm)\n",
        "plt.show()"
      ],
      "metadata": {
        "colab": {
          "base_uri": "https://localhost:8080/",
          "height": 416
        },
        "id": "yGRuJYEZW6e7",
        "outputId": "79291f4f-4699-4961-e12f-75300bafa97e"
      },
      "execution_count": null,
      "outputs": [
        {
          "output_type": "stream",
          "name": "stderr",
          "text": [
            "/usr/local/lib/python3.7/dist-packages/seaborn/distributions.py:2619: FutureWarning: `distplot` is a deprecated function and will be removed in a future version. Please adapt your code to use either `displot` (a figure-level function with similar flexibility) or `histplot` (an axes-level function for histograms).\n",
            "  warnings.warn(msg, FutureWarning)\n"
          ]
        },
        {
          "output_type": "display_data",
          "data": {
            "text/plain": [
              "<Figure size 576x396 with 1 Axes>"
            ],
            "image/png": "[encoded data removed]"
          },
          "metadata": {}
        }
      ]
    },
    {
      "cell_type": "markdown",
      "source": [
        "Some predictors are skewed. For example, the `total_asking_price` predictor can be improved with a log transformation. To standardise and center all other variables as well, "
      ],
      "metadata": {
        "id": "kCQREvhEGRzG"
      }
    },
    {
      "cell_type": "code",
      "source": [
        "# Defining features and target\n",
        "df = pd.get_dummies(df)\n",
        "X = df.drop('funding', axis=1)\n",
        "y = df['funding']\n",
        "\n",
        "X_train, X_test, y_train, y_test = train_test_split(\n",
        "    X, y, test_size=0.2, random_state=314)\n",
        "\n",
        "scaler = preprocessing.StandardScaler().fit(X_train)\n",
        "X_train = scaler.transform(X_train)\n",
        "X_test = scaler.transform(X_test)"
      ],
      "metadata": {
        "id": "iuds8GRBqoN9"
      },
      "execution_count": null,
      "outputs": []
    },
    {
      "cell_type": "markdown",
      "source": [
        "We convert categorical variables to one-hot-vectors. However, the features were selected in the previous step to have as few categorical variables as possible because they dramatically increase the feature space creating problems such as the \"curse of dimensionality\" (e.g., for knn)."
      ],
      "metadata": {
        "id": "SXChpiIJJbGt"
      }
    },
    {
      "cell_type": "markdown",
      "source": [
        "**Selecting the model**"
      ],
      "metadata": {
        "id": "TM7l6IZ5Jq0E"
      }
    },
    {
      "cell_type": "code",
      "source": [
        "# Defining models\n",
        "\n",
        "lm = make_pipeline(RobustScaler(), LogisticRegression())\n",
        "nb = make_pipeline(RobustScaler(), GaussianNB())\n",
        "svm = make_pipeline(RobustScaler(), SVC())\n",
        "nn = make_pipeline(RobustScaler(), MLPClassifier())\n",
        "knn = make_pipeline(RobustScaler(), KNeighborsClassifier())\n",
        "rf = make_pipeline(RobustScaler(), RandomForestClassifier())\n",
        "ada = make_pipeline(RobustScaler(), AdaBoostClassifier())\n",
        "\n"
      ],
      "metadata": {
        "id": "vqjVTd93q-0y"
      },
      "execution_count": null,
      "outputs": []
    },
    {
      "cell_type": "code",
      "source": [
        "models = {\n",
        "  'Logistics Regression': lm,\n",
        "  'Naive Bayes': nb, \n",
        "  'Support Vector Machine': svm,\n",
        "  'MLP Neural Network': nn,\n",
        "  'k-Nearest-Neighbour': knn,\n",
        "  'Random Forest': rf,\n",
        "  'AdaBoost': ada\n",
        "}"
      ],
      "metadata": {
        "id": "CiTpC5yNrFAz"
      },
      "execution_count": null,
      "outputs": []
    },
    {
      "cell_type": "code",
      "source": [
        "import warnings\n",
        "from sklearn.exceptions import ConvergenceWarning\n",
        "warnings.simplefilter(\"ignore\", category=ConvergenceWarning)"
      ],
      "metadata": {
        "id": "RWOdEZAjEwJF"
      },
      "execution_count": null,
      "outputs": []
    },
    {
      "cell_type": "code",
      "source": [
        "for m in models.keys():\n",
        "      score = cross_val_score(models[m], X_train, y_train, cv=5)\n",
        "      print(\"\\n{} score: {:.4f} ({:.4f})\".format(m, score.mean(), score.std()))"
      ],
      "metadata": {
        "colab": {
          "base_uri": "https://localhost:8080/"
        },
        "id": "fgJEMcuyrKa4",
        "outputId": "5170856d-d0ba-4d95-c70e-4490345b4062"
      },
      "execution_count": null,
      "outputs": [
        {
          "output_type": "stream",
          "name": "stdout",
          "text": [
            "\n",
            "Logistics Regression score: 0.7784 (0.0007)\n",
            "\n",
            "Naive Bayes score: 0.4597 (0.0068)\n",
            "\n",
            "Support Vector Machine score: 0.8098 (0.0008)\n",
            "\n",
            "MLP Neural Network score: 0.7334 (0.0258)\n",
            "\n",
            "k-Nearest-Neighbour score: 0.8139 (0.0014)\n",
            "\n",
            "Random Forest score: 0.8108 (0.0017)\n",
            "\n",
            "AdaBoost score: 0.8059 (0.0016)\n"
          ]
        }
      ]
    },
    {
      "cell_type": "code",
      "source": [
        "final_model = models['k-Nearest-Neighbour']\n",
        "model = final_model.fit(X_train, y_train)\n",
        "y_pred = model.predict(X_test)"
      ],
      "metadata": {
        "id": "CngEJauDJKB9"
      },
      "execution_count": null,
      "outputs": []
    },
    {
      "cell_type": "code",
      "source": [
        "sum(y_pred)/len(y_pred)"
      ],
      "metadata": {
        "colab": {
          "base_uri": "https://localhost:8080/"
        },
        "id": "Vhfy1ksFLfGJ",
        "outputId": "54b60c63-b341-4ba6-b843-f7c4f955c5a0"
      },
      "execution_count": null,
      "outputs": [
        {
          "output_type": "execute_result",
          "data": {
            "text/plain": [
              "0.01541815916523906"
            ]
          },
          "metadata": {},
          "execution_count": 39
        }
      ]
    },
    {
      "cell_type": "markdown",
      "source": [
        "Only 1.54% of test observations are labelled as at risk of underfunding. However, we are aiming for a figure that is closer to 10%. For that, we are using a method called \"upsampling\". We are increasing the share of observations (by an arbitrary factor of 2 -- this could be fine tuned in the future) that are labelled as \"funding not reached\"."
      ],
      "metadata": {
        "id": "c2tEmsUCNbB_"
      }
    },
    {
      "cell_type": "code",
      "source": [
        "X_train_upsampled = X_train\n",
        "y_train_upsampled = np.array(y_train)\n",
        "for i in range(0, len(X_train)):\n",
        "    if y_train[i] == 1:\n",
        "        X_train_upsampled = np.vstack((X_train_upsampled, X_train[i,:]))\n",
        "        y_train_upsampled = np.append(y_train_upsampled, y_train[i])\n",
        "\n",
        "X_train = X_train_upsampled\n",
        "y_train = y_train_upsampled"
      ],
      "metadata": {
        "id": "01ZZBYspMDTY"
      },
      "execution_count": null,
      "outputs": []
    },
    {
      "cell_type": "code",
      "source": [
        "lm = make_pipeline(RobustScaler(), LogisticRegression())\n",
        "nb = make_pipeline(RobustScaler(), GaussianNB())\n",
        "nn = make_pipeline(RobustScaler(), MLPClassifier())\n",
        "knn = make_pipeline(RobustScaler(), KNeighborsClassifier())\n",
        "rf = make_pipeline(RobustScaler(), RandomForestClassifier())\n",
        "ada = make_pipeline(RobustScaler(), AdaBoostClassifier())\n",
        "\n",
        "models = {\n",
        "  'Logistics Regression': lm,\n",
        "  'Naive Bayes': nb, \n",
        "  'MLP Neural Network': nn,\n",
        "  'k-Nearest-Neighbour': knn,\n",
        "  'Random Forest': rf,\n",
        "  'AdaBoost': ada\n",
        "}"
      ],
      "metadata": {
        "id": "7ZyDAWtwNAPb"
      },
      "execution_count": null,
      "outputs": []
    },
    {
      "cell_type": "code",
      "source": [
        "for m in models.keys():\n",
        "      score = cross_val_score(models[m], X_train, y_train, cv=5)\n",
        "      print(\"\\n{} score: {:.4f} ({:.4f})\".format(m, score.mean(), score.std()))"
      ],
      "metadata": {
        "colab": {
          "base_uri": "https://localhost:8080/"
        },
        "id": "j_PGZPD2NFlm",
        "outputId": "b5360213-da05-4c4b-bd6a-cc864693c52e"
      },
      "execution_count": null,
      "outputs": [
        {
          "output_type": "stream",
          "name": "stdout",
          "text": [
            "\n",
            "Logistics Regression score: 0.8607 (0.0004)\n",
            "\n",
            "Naive Bayes score: 0.5247 (0.0062)\n",
            "\n",
            "MLP Neural Network score: 0.8163 (0.0059)\n",
            "\n",
            "k-Nearest-Neighbour score: 0.7193 (0.0006)\n",
            "\n",
            "Random Forest score: 0.9529 (0.0037)\n",
            "\n",
            "AdaBoost score: 0.7258 (0.0038)\n"
          ]
        }
      ]
    },
    {
      "cell_type": "markdown",
      "source": [
        "We now fit our model with the entire training dataset and predict on the testing data that we set aside."
      ],
      "metadata": {
        "id": "4J2EXT9VTdu5"
      }
    },
    {
      "cell_type": "code",
      "source": [
        "final_model = models['Random Forest']\n",
        "model = final_model.fit(X_train, y_train)\n",
        "y_pred = model.predict(X_test)"
      ],
      "metadata": {
        "id": "z594C3XlNJ8p"
      },
      "execution_count": null,
      "outputs": []
    },
    {
      "cell_type": "code",
      "source": [
        "sum(y_pred)/len(y_pred)"
      ],
      "metadata": {
        "colab": {
          "base_uri": "https://localhost:8080/"
        },
        "id": "esaDCQkYNLpB",
        "outputId": "d084039f-9378-4e68-cc35-29618f7844d7"
      },
      "execution_count": null,
      "outputs": [
        {
          "output_type": "execute_result",
          "data": {
            "text/plain": [
              "0.09372371904687743"
            ]
          },
          "metadata": {},
          "execution_count": 56
        }
      ]
    },
    {
      "cell_type": "code",
      "source": [
        "sum(y_pred == y_test)/len(y_pred)"
      ],
      "metadata": {
        "colab": {
          "base_uri": "https://localhost:8080/"
        },
        "id": "ki1mDcXaTSW6",
        "outputId": "ae562da1-ea19-4174-8432-e919c47159a2"
      },
      "execution_count": null,
      "outputs": [
        {
          "output_type": "execute_result",
          "data": {
            "text/plain": [
              "0.7994081918704252"
            ]
          },
          "metadata": {},
          "execution_count": 53
        }
      ]
    },
    {
      "cell_type": "markdown",
      "source": [
        "We note that not only the share of \"funding not reached\"-labelled observations increased but also the models' accuracies overall as seen in the CV scores."
      ],
      "metadata": {
        "id": "gIxmM19IODjM"
      }
    },
    {
      "cell_type": "markdown",
      "source": [
        "# Question 3\n",
        "\n",
        "Write a one-paragraph discussion of your results for a non-technical decision-maker with any recommendations for deployment or next steps."
      ],
      "metadata": {
        "id": "_KZZU6auTDxT"
      }
    },
    {
      "cell_type": "markdown",
      "source": [
        "**Summary**\n",
        "The results of our modelling is mixed. On the one hand, we were able to mitigate that there is significantly more data for projects that reach their funding target than there is for those that don't with a process called \"upsampling\". 9% of unseen data is predicted as \"at risk\" of not reaching its funding target (our goal being 10%). On the other hand, we only have an accuracy of 80% and our false positive rate is at 40%. \n",
        "\n",
        "Hence, there are a number of things that should be improved technically. We can improve and test the selection of variables that we are using to make our predictions. We may also fine tune other parameters of our models, e.g., the upsampling factor, and model-specific values. Especially because more complex models performed similarly to simple models, there may be room for improvement. Lastly, the model's performance on a variety of bias metrics should be checked before it is used for decision making processes.\n",
        "\n",
        "Subsequently, we can deploy our pipeline by feeding new projects into our final model. We know that not far from 10% of models are labelled as at risk of not reaching the right funding level, so we can freely select those that are classified as at risk. "
      ],
      "metadata": {
        "id": "HwEBiLvIDMtw"
      }
    },
    {
      "cell_type": "markdown",
      "source": [
        "# Submission\n",
        "\n",
        "To submit your exercise, please **save a copy** of this notebook containing your code and outputs (you can save it either to google drive or github, but make sure the course staff will have read permissions to access it).\n",
        "\n",
        "Include a link to your copy of the notebook when you fill out [this survey](https://datascience.wufoo.com/forms/z17mvha70usjfv7/) along with your other details.\n",
        "\n",
        "Thank you and we're looking forward to a great semester in 94889!"
      ],
      "metadata": {
        "id": "XP2k3Z--DNju"
      }
    }
  ]
}